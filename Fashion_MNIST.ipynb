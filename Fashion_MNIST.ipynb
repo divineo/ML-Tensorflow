{
 "cells": [
  {
   "cell_type": "markdown",
   "metadata": {},
   "source": [
    "## Import packages"
   ]
  },
  {
   "cell_type": "code",
   "execution_count": 1,
   "metadata": {},
   "outputs": [],
   "source": [
    "from time import time\n",
    "import matplotlib.pyplot as plt\n",
    "import tensorflow as tf\n",
    "\n",
    "import tensorflow_datasets as tfds"
   ]
  },
  {
   "cell_type": "markdown",
   "metadata": {},
   "source": [
    "### Load the dataset"
   ]
  },
  {
   "cell_type": "code",
   "execution_count": 2,
   "metadata": {},
   "outputs": [],
   "source": [
    "fmnist_dataset, fmnist_info = tfds.load(name='fashion_mnist', with_info=True, as_supervised=True)"
   ]
  },
  {
   "cell_type": "markdown",
   "metadata": {},
   "source": [
    "### Preprocessing"
   ]
  },
  {
   "cell_type": "code",
   "execution_count": 3,
   "metadata": {},
   "outputs": [],
   "source": [
    "fmnist_train, fmnist_test = fmnist_dataset['train'], fmnist_dataset['test']\n",
    "\n",
    "num_validation_samples = 0.1 * fmnist_info.splits['train'].num_examples\n",
    "num_validation_samples = tf.cast(num_validation_samples, tf.int64)\n",
    "\n",
    "num_test_samples = fmnist_info.splits['test'].num_examples\n",
    "num_test_samples = tf.cast(num_test_samples, tf.int64)\n",
    "\n",
    "# normally, we would like to scale our data in some way to make the result more numerically stable\n",
    "# in this case we will simply prefer to have inputs between 0 and 1\n",
    "# let's define a function called: scale, that will take an Horses_or_humans image and its label\n",
    "def scale(image, label):\n",
    "    image = tf.cast(image, tf.float32)\n",
    "    image /= 255.\n",
    "    return image, label\n",
    "\n",
    "scaled_train_and_validation_data = fmnist_train.map(scale)\n",
    "\n",
    "test_data = fmnist_test.map(scale)"
   ]
  },
  {
   "cell_type": "code",
   "execution_count": 4,
   "metadata": {},
   "outputs": [],
   "source": [
    "BUFFER_SIZE = 10000\n",
    "\n",
    "shuffled_train_and_validation_data = scaled_train_and_validation_data.shuffle(BUFFER_SIZE)\n",
    "\n",
    "validation_data = shuffled_train_and_validation_data.take(num_validation_samples)\n",
    "train_data = shuffled_train_and_validation_data.skip(num_validation_samples)\n",
    "\n",
    "BATCH_SIZE = 500\n",
    "\n",
    "# we can also take advantage of the occasion to batch the train data\n",
    "# this would be very helpful when we train, as we would be able to iterate over the different batches\n",
    "train_data = train_data.batch(BATCH_SIZE)\n",
    "validation_data = validation_data.batch(num_validation_samples)\n",
    "\n",
    "test_data = test_data.batch(num_test_samples)\n",
    "\n",
    "validation_inputs, validation_targets = next(iter(validation_data))"
   ]
  },
  {
   "cell_type": "code",
   "execution_count": 5,
   "metadata": {},
   "outputs": [],
   "source": [
    "model = tf.keras.models.Sequential([\n",
    "                                    tf.keras.layers.Conv2D(128, (3,3), activation='relu', input_shape=(28, 28, 1)),\n",
    "                                    tf.keras.layers.MaxPooling2D(2, 2),\n",
    "                                    tf.keras.layers.Conv2D(64, (3,3), activation='tanh'),\n",
    "                                    tf.keras.layers.MaxPooling2D(2,2),\n",
    "                                    tf.keras.layers.Flatten(),\n",
    "                                    tf.keras.layers.Dense(128, activation='relu'),\n",
    "                                    tf.keras.layers.Dense(10, activation='softmax')\n",
    "                                   ])"
   ]
  },
  {
   "cell_type": "code",
   "execution_count": 6,
   "metadata": {},
   "outputs": [
    {
     "name": "stdout",
     "output_type": "stream",
     "text": [
      "Model: \"sequential\"\n",
      "_________________________________________________________________\n",
      "Layer (type)                 Output Shape              Param #   \n",
      "=================================================================\n",
      "conv2d (Conv2D)              (None, 26, 26, 128)       1280      \n",
      "_________________________________________________________________\n",
      "max_pooling2d (MaxPooling2D) (None, 13, 13, 128)       0         \n",
      "_________________________________________________________________\n",
      "conv2d_1 (Conv2D)            (None, 11, 11, 64)        73792     \n",
      "_________________________________________________________________\n",
      "max_pooling2d_1 (MaxPooling2 (None, 5, 5, 64)          0         \n",
      "_________________________________________________________________\n",
      "flatten (Flatten)            (None, 1600)              0         \n",
      "_________________________________________________________________\n",
      "dense (Dense)                (None, 128)               204928    \n",
      "_________________________________________________________________\n",
      "dense_1 (Dense)              (None, 10)                1290      \n",
      "=================================================================\n",
      "Total params: 281,290\n",
      "Trainable params: 281,290\n",
      "Non-trainable params: 0\n",
      "_________________________________________________________________\n"
     ]
    }
   ],
   "source": [
    "model.summary()"
   ]
  },
  {
   "cell_type": "code",
   "execution_count": 7,
   "metadata": {},
   "outputs": [],
   "source": [
    "model.compile(optimizer='adam', loss='sparse_categorical_crossentropy', metrics=['accuracy'])"
   ]
  },
  {
   "cell_type": "code",
   "execution_count": 8,
   "metadata": {},
   "outputs": [
    {
     "name": "stdout",
     "output_type": "stream",
     "text": [
      "Epoch 1/10\n",
      "108/108 - 67s - loss: 0.7253 - accuracy: 0.7401 - val_loss: 0.4428 - val_accuracy: 0.8442\n",
      "Epoch 2/10\n",
      "108/108 - 65s - loss: 0.4340 - accuracy: 0.8420 - val_loss: 0.3784 - val_accuracy: 0.8700\n",
      "Epoch 3/10\n",
      "108/108 - 62s - loss: 0.3750 - accuracy: 0.8650 - val_loss: 0.3248 - val_accuracy: 0.8880\n",
      "Epoch 4/10\n",
      "108/108 - 63s - loss: 0.3294 - accuracy: 0.8808 - val_loss: 0.2994 - val_accuracy: 0.8962\n",
      "Epoch 5/10\n",
      "108/108 - 63s - loss: 0.3067 - accuracy: 0.8885 - val_loss: 0.2799 - val_accuracy: 0.9005\n",
      "Epoch 6/10\n",
      "108/108 - 63s - loss: 0.2889 - accuracy: 0.8945 - val_loss: 0.2738 - val_accuracy: 0.9033\n",
      "Epoch 7/10\n",
      "108/108 - 63s - loss: 0.2679 - accuracy: 0.9015 - val_loss: 0.2771 - val_accuracy: 0.9010\n",
      "Epoch 8/10\n",
      "108/108 - 63s - loss: 0.2573 - accuracy: 0.9046 - val_loss: 0.2426 - val_accuracy: 0.9108\n",
      "Epoch 9/10\n",
      "108/108 - 64s - loss: 0.2412 - accuracy: 0.9115 - val_loss: 0.2434 - val_accuracy: 0.9068\n",
      "Epoch 10/10\n",
      "108/108 - 67s - loss: 0.2298 - accuracy: 0.9162 - val_loss: 0.2248 - val_accuracy: 0.9182\n"
     ]
    }
   ],
   "source": [
    "early_stopping = tf.keras.callbacks.EarlyStopping(patience=2)\n",
    "\n",
    "NUM_EPOCHS = 10\n",
    "\n",
    "history = model.fit(train_data,\n",
    "          epochs = NUM_EPOCHS,\n",
    "          callbacks=[early_stopping],\n",
    "          validation_data=(validation_inputs, validation_targets),\n",
    "          validation_steps=1,\n",
    "          verbose=2)"
   ]
  },
  {
   "cell_type": "code",
   "execution_count": 9,
   "metadata": {},
   "outputs": [
    {
     "data": {
      "image/png": "[encoded data removed]",
      "text/plain": [
       "<Figure size 432x288 with 1 Axes>"
      ]
     },
     "metadata": {
      "needs_background": "light"
     },
     "output_type": "display_data"
    }
   ],
   "source": [
    "plt.plot(history.history['accuracy'],c='k',lw=2)\n",
    "plt.grid(True)\n",
    "plt.title(\"Training accuracy with epochs\\n\",fontsize=18)\n",
    "plt.xlabel(\"Training epochs\",fontsize=15)\n",
    "plt.ylabel(\"Training accuracy\",fontsize=15)\n",
    "plt.show()"
   ]
  },
  {
   "cell_type": "code",
   "execution_count": 10,
   "metadata": {},
   "outputs": [
    {
     "name": "stdout",
     "output_type": "stream",
     "text": [
      "1/1 [==============================] - 0s 4ms/step - loss: 0.2781 - accuracy: 0.8984\n"
     ]
    }
   ],
   "source": [
    "test_loss, test_accuracy = model.evaluate(test_data)"
   ]
  },
  {
   "cell_type": "markdown",
   "metadata": {},
   "source": [
    "The end result is not as satisfying as it should be. One of the reasons behind this can be because I didn't reshape the dataset into a 4D list of 60,000x28x28x1.\n",
    "\n",
    "Even if I do try that the system takes too long to compute a single epoch. You can try this on your own and might end up with a better result."
   ]
  },
  {
   "cell_type": "code",
   "execution_count": null,
   "metadata": {},
   "outputs": [],
   "source": []
  }
 ],
 "metadata": {
  "kernelspec": {
   "display_name": "Python 3",
   "language": "python",
   "name": "python3"
  },
  "language_info": {
   "codemirror_mode": {
    "name": "ipython",
    "version": 3
   },
   "file_extension": ".py",
   "mimetype": "text/x-python",
   "name": "python",
   "nbconvert_exporter": "python",
   "pygments_lexer": "ipython3",
   "version": "3.8.2"
  }
 },
 "nbformat": 4,
 "nbformat_minor": 4
}
